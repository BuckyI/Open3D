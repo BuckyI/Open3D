{
 "cells": [
  {
   "cell_type": "code",
   "execution_count": 1,
   "metadata": {},
   "outputs": [
    {
     "name": "stdout",
     "output_type": "stream",
     "text": [
      "Jupyter environment detected. Enabling Open3D WebVisualizer.\n",
      "[Open3D INFO] WebRTC GUI backend enabled.\n",
      "[Open3D INFO] WebRTCWindowSystem: HTTP handshake server disabled.\n"
     ]
    }
   ],
   "source": [
    "import open3d.core as o3c\n",
    "import numpy as np\n",
    "\n",
    "capacity = 10\n",
    "device = o3c.Device(\"cpu:0\")"
   ]
  },
  {
   "cell_type": "code",
   "execution_count": 2,
   "metadata": {},
   "outputs": [],
   "source": [
    "hashmap = o3c.HashMap(\n",
    "    capacity, key_dtype=o3c.int64, key_element_shape=(1,), value_dtype=o3c.int64, value_element_shape=(1,), device=device\n",
    ")"
   ]
  },
  {
   "cell_type": "code",
   "execution_count": 3,
   "metadata": {},
   "outputs": [],
   "source": [
    "# Prepare a batch of 7 key/values, each a int64 element\n",
    "keys = o3c.Tensor([[100], [200], [400], [800], [300], [200], [100]], dtype=o3c.int64, device=device)\n",
    "vals = o3c.Tensor([[1], [2], [4], [8], [3], [2], [1]], dtype=o3c.int64, device=device)\n",
    "buf_indices, masks = hashmap.insert(keys, vals)"
   ]
  },
  {
   "cell_type": "code",
   "execution_count": 4,
   "metadata": {},
   "outputs": [
    {
     "data": {
      "text/plain": [
       "[0 1 2 3 4 0 0]\n",
       "Tensor[shape={7}, stride={1}, Int32, CPU:0, 0x1974fb63880]"
      ]
     },
     "execution_count": 4,
     "metadata": {},
     "output_type": "execute_result"
    }
   ],
   "source": [
    "buf_indices"
   ]
  },
  {
   "cell_type": "code",
   "execution_count": 5,
   "metadata": {},
   "outputs": [
    {
     "data": {
      "text/plain": [
       "[True True True True True False False]\n",
       "Tensor[shape={7}, stride={1}, Bool, CPU:0, 0x1974d865ea0]"
      ]
     },
     "execution_count": 5,
     "metadata": {},
     "output_type": "execute_result"
    }
   ],
   "source": [
    "masks"
   ]
  },
  {
   "cell_type": "code",
   "execution_count": 7,
   "metadata": {},
   "outputs": [],
   "source": [
    "activate_keys = o3c.Tensor([[1000], [0]], dtype=o3c.int64, device=device)\n",
    "buf_indices, masks = hashmap.activate(activate_keys)"
   ]
  },
  {
   "cell_type": "code",
   "execution_count": 11,
   "metadata": {},
   "outputs": [
    {
     "data": {
      "text/plain": [
       "[[1],\n",
       " [2],\n",
       " [4],\n",
       " [8],\n",
       " [3],\n",
       " [0],\n",
       " [0],\n",
       " [0],\n",
       " [0],\n",
       " [0]]\n",
       "Tensor[shape={10, 1}, stride={1, 1}, Int64, CPU:0, 0x1974d855df0]"
      ]
     },
     "execution_count": 11,
     "metadata": {},
     "output_type": "execute_result"
    }
   ],
   "source": [
    "buf_vals = hashmap.value_tensor()\n",
    "buf_vals"
   ]
  },
  {
   "cell_type": "code",
   "execution_count": 14,
   "metadata": {},
   "outputs": [
    {
     "data": {
      "text/plain": [
       "[[1],\n",
       " [2],\n",
       " [4],\n",
       " [8],\n",
       " [3],\n",
       " [11],\n",
       " [11],\n",
       " [0],\n",
       " [0],\n",
       " [0]]\n",
       "Tensor[shape={10, 1}, stride={1, 1}, Int64, CPU:0, 0x1974d855df0]"
      ]
     },
     "execution_count": 14,
     "metadata": {},
     "output_type": "execute_result"
    }
   ],
   "source": [
    "buf_vals[buf_indices[masks].to(o3c.int64)] = o3c.Tensor([[11]], dtype=o3c.int64, device=device)\n",
    "buf_vals"
   ]
  },
  {
   "cell_type": "code",
   "execution_count": 16,
   "metadata": {},
   "outputs": [
    {
     "data": {
      "text/plain": [
       "([5 6]\n",
       " Tensor[shape={2}, stride={1}, Int32, CPU:0, 0x1974d8660f0],\n",
       " [True True]\n",
       " Tensor[shape={2}, stride={1}, Bool, CPU:0, 0x1974d865fa0])"
      ]
     },
     "execution_count": 16,
     "metadata": {},
     "output_type": "execute_result"
    }
   ],
   "source": [
    "hashmap.find(activate_keys)"
   ]
  }
 ],
 "metadata": {
  "kernelspec": {
   "display_name": "Python 3",
   "language": "python",
   "name": "python3"
  },
  "language_info": {
   "codemirror_mode": {
    "name": "ipython",
    "version": 3
   },
   "file_extension": ".py",
   "mimetype": "text/x-python",
   "name": "python",
   "nbconvert_exporter": "python",
   "pygments_lexer": "ipython3",
   "version": "3.11.6"
  }
 },
 "nbformat": 4,
 "nbformat_minor": 2
}
